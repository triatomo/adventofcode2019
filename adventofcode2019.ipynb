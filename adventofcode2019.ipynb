{
 "cells": [
  {
   "cell_type": "markdown",
   "metadata": {},
   "source": [
    "# Day 1\n",
    "### Part One"
   ]
  },
  {
   "cell_type": "code",
   "execution_count": 54,
   "metadata": {},
   "outputs": [],
   "source": [
    "import math\n",
    "modules = [81157, 80969, 113477, 81295, 70537, 90130, 123804, 94276, 139327, 123719, 107814, 122142, 61204, 135309, 62810, 85750, 132568, 76450, 122948, 124649, 102644, 80055, 60517, 125884, 125708, 99051, 137158, 100450, 55239, 66758, 123848, 88711, 113047, 125528, 59285, 103978, 93047, 98038, 143019, 92031, 54353, 115597, 105629, 80411, 134966, 135473, 77357, 65776, 71096, 66926, 97853, 80349, 141914, 127221, 102492, 143587, 111493, 84711, 59826, 135652, 103334, 138211, 65088, 82244, 95011, 78760, 56691, 62070, 146134, 81650, 76904, 98838, 89629, 59950, 50390, 78616, 99731, 53831, 81273, 103980, 58485, 137684, 142457, 111050, 141916, 55567, 141945, 100794, 136425, 77911, 137114, 77450, 132048, 143066, 136805, 114135, 61565, 67286, 85512, 137493]"
   ]
  },
  {
   "cell_type": "code",
   "execution_count": 55,
   "metadata": {},
   "outputs": [
    {
     "name": "stdout",
     "output_type": "stream",
     "text": [
      "length of fuel req: 100\n",
      "total required fuel: 3305115\n"
     ]
    }
   ],
   "source": [
    "fuel_req = []\n",
    "for i in modules:\n",
    "    fuel = math.floor(i/3)-2\n",
    "    fuel_req.append(fuel)\n",
    "  \n",
    "print('length of fuel req:', len(fuel_req))\n",
    "print('total required fuel:', sum(fuel_req))"
   ]
  },
  {
   "cell_type": "markdown",
   "metadata": {},
   "source": [
    "### Part Two"
   ]
  },
  {
   "cell_type": "code",
   "execution_count": 66,
   "metadata": {},
   "outputs": [],
   "source": [
    "def fuel_inception(calc_fuel):\n",
    "    if math.floor(calc_fuel/3)-2 <= 0:\n",
    "        return 0\n",
    "    else:\n",
    "        return math.floor(calc_fuel/3)-2 + fuel_inception(math.floor(calc_fuel/3)-2)"
   ]
  },
  {
   "cell_type": "code",
   "execution_count": 72,
   "metadata": {},
   "outputs": [
    {
     "name": "stdout",
     "output_type": "stream",
     "text": [
      "Total amount of fuel: 4954799\n"
     ]
    }
   ],
   "source": [
    "add_fuel=[]\n",
    "for i in modules:\n",
    "    add_fuel.append(fuel_inception(i))\n",
    "    \n",
    "print('Total amount of fuel:', sum(add_fuel))  "
   ]
  },
  {
   "cell_type": "code",
   "execution_count": null,
   "metadata": {},
   "outputs": [],
   "source": []
  }
 ],
 "metadata": {
  "kernelspec": {
   "display_name": "Python 3",
   "language": "python",
   "name": "python3"
  },
  "language_info": {
   "codemirror_mode": {
    "name": "ipython",
    "version": 3
   },
   "file_extension": ".py",
   "mimetype": "text/x-python",
   "name": "python",
   "nbconvert_exporter": "python",
   "pygments_lexer": "ipython3",
   "version": "3.6.8"
  }
 },
 "nbformat": 4,
 "nbformat_minor": 2
}
